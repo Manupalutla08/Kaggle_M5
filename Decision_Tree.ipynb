{
 "cells": [
  {
   "cell_type": "code",
   "execution_count": 1,
   "metadata": {},
   "outputs": [],
   "source": [
    "import numpy as np\n",
    "import pandas as pd\n",
    "import pickle\n",
    "import math\n",
    "from tqdm import tqdm\n",
    "from sklearn.tree import DecisionTreeRegressor\n",
    "from sklearn.metrics import mean_squared_error as mse\n",
    "import warnings\n",
    "warnings.filterwarnings('ignore')"
   ]
  },
  {
   "cell_type": "code",
   "execution_count": 2,
   "metadata": {},
   "outputs": [],
   "source": [
    "X_train = pd.read_pickle('X_train.pkl')\n",
    "X_cv = pd.read_pickle('X_cv.pkl')\n",
    "X_test = pd.read_pickle('X_test.pkl')"
   ]
  },
  {
   "cell_type": "code",
   "execution_count": 3,
   "metadata": {},
   "outputs": [
    {
     "name": "stdout",
     "output_type": "stream",
     "text": [
      "(13781480, 28) (13781480,)\n",
      "(853720, 28) (853720,)\n",
      "(853720, 28) (853720,)\n"
     ]
    }
   ],
   "source": [
    "y_train = X_train['sales']\n",
    "y_cv = X_cv['sales']\n",
    "y_test = X_test['sales']\n",
    "\n",
    "# We are drpping the features which are not required.\n",
    "X_train.drop(['sales'],axis = 1,inplace = True)\n",
    "X_cv.drop(['sales'],axis=1,inplace = True)\n",
    "X_test.drop(['sales'],axis = 1,inplace = True)\n",
    "\n",
    "print(X_train.shape,y_train.shape)\n",
    "print(X_cv.shape,y_cv.shape)\n",
    "print(X_test.shape, y_test.shape)"
   ]
  },
  {
   "cell_type": "code",
   "execution_count": 4,
   "metadata": {},
   "outputs": [
    {
     "name": "stderr",
     "output_type": "stream",
     "text": [
      " 10%|█         | 1/10 [01:15<11:18, 75.34s/it]"
     ]
    },
    {
     "name": "stdout",
     "output_type": "stream",
     "text": [
      "Train error with max_depth: 115, min_samples_split:265, max_leaf_nodes: 20 = 1.885395833363823\n",
      "Test error with max_depth: 115, min_samples_split:265, max_leaf_nodes: 20 = 1.8443670344364806\n",
      "****************************************************************************************************\n"
     ]
    },
    {
     "name": "stderr",
     "output_type": "stream",
     "text": [
      " 20%|██        | 2/10 [03:06<12:52, 96.57s/it]"
     ]
    },
    {
     "name": "stdout",
     "output_type": "stream",
     "text": [
      "Train error with max_depth: 71, min_samples_split:178, max_leaf_nodes: 398 = 1.7730179657063647\n",
      "Test error with max_depth: 71, min_samples_split:178, max_leaf_nodes: 398 = 1.7597351942049877\n",
      "****************************************************************************************************\n"
     ]
    },
    {
     "name": "stderr",
     "output_type": "stream",
     "text": [
      " 30%|███       | 3/10 [04:50<11:39, 99.88s/it]"
     ]
    },
    {
     "name": "stdout",
     "output_type": "stream",
     "text": [
      "Train error with max_depth: 80, min_samples_split:21, max_leaf_nodes: 262 = 1.776065530067702\n",
      "Test error with max_depth: 80, min_samples_split:21, max_leaf_nodes: 262 = 1.7681786787466127\n",
      "****************************************************************************************************\n"
     ]
    },
    {
     "name": "stderr",
     "output_type": "stream",
     "text": [
      " 40%|████      | 4/10 [06:19<09:34, 95.70s/it]"
     ]
    },
    {
     "name": "stdout",
     "output_type": "stream",
     "text": [
      "Train error with max_depth: 90, min_samples_split:57, max_leaf_nodes: 47 = 1.8385478373615238\n",
      "Test error with max_depth: 90, min_samples_split:57, max_leaf_nodes: 47 = 1.787259418750237\n",
      "****************************************************************************************************\n"
     ]
    },
    {
     "name": "stderr",
     "output_type": "stream",
     "text": [
      " 50%|█████     | 5/10 [08:12<08:28, 101.79s/it]"
     ]
    },
    {
     "name": "stdout",
     "output_type": "stream",
     "text": [
      "Train error with max_depth: 31, min_samples_split:345, max_leaf_nodes: 336 = 1.7834189973364547\n",
      "Test error with max_depth: 31, min_samples_split:345, max_leaf_nodes: 336 = 1.75777840292393\n",
      "****************************************************************************************************\n"
     ]
    },
    {
     "name": "stderr",
     "output_type": "stream",
     "text": [
      " 60%|██████    | 6/10 [09:45<06:34, 98.72s/it] "
     ]
    },
    {
     "name": "stdout",
     "output_type": "stream",
     "text": [
      "Train error with max_depth: 92, min_samples_split:207, max_leaf_nodes: 92 = 1.8167025960562695\n",
      "Test error with max_depth: 92, min_samples_split:207, max_leaf_nodes: 92 = 1.774275983097734\n",
      "****************************************************************************************************\n"
     ]
    },
    {
     "name": "stderr",
     "output_type": "stream",
     "text": [
      " 70%|███████   | 7/10 [11:29<05:01, 100.44s/it]"
     ]
    },
    {
     "name": "stdout",
     "output_type": "stream",
     "text": [
      "Train error with max_depth: 153, min_samples_split:360, max_leaf_nodes: 190 = 1.7981007482340434\n",
      "Test error with max_depth: 153, min_samples_split:360, max_leaf_nodes: 190 = 1.760851858642658\n",
      "****************************************************************************************************\n"
     ]
    },
    {
     "name": "stderr",
     "output_type": "stream",
     "text": [
      " 80%|████████  | 8/10 [13:21<03:28, 104.36s/it]"
     ]
    },
    {
     "name": "stdout",
     "output_type": "stream",
     "text": [
      "Train error with max_depth: 176, min_samples_split:141, max_leaf_nodes: 329 = 1.7767201875722742\n",
      "Test error with max_depth: 176, min_samples_split:141, max_leaf_nodes: 329 = 1.7538196343243306\n",
      "****************************************************************************************************\n"
     ]
    },
    {
     "name": "stderr",
     "output_type": "stream",
     "text": [
      " 90%|█████████ | 9/10 [15:07<01:44, 104.57s/it]"
     ]
    },
    {
     "name": "stdout",
     "output_type": "stream",
     "text": [
      "Train error with max_depth: 11, min_samples_split:139, max_leaf_nodes: 208 = 1.7914624464241062\n",
      "Test error with max_depth: 11, min_samples_split:139, max_leaf_nodes: 208 = 1.7599858873814587\n",
      "****************************************************************************************************\n"
     ]
    },
    {
     "name": "stderr",
     "output_type": "stream",
     "text": [
      "100%|██████████| 10/10 [16:48<00:00, 100.82s/it]"
     ]
    },
    {
     "name": "stdout",
     "output_type": "stream",
     "text": [
      "Train error with max_depth: 39, min_samples_split:101, max_leaf_nodes: 177 = 1.7958050806416062\n",
      "Test error with max_depth: 39, min_samples_split:101, max_leaf_nodes: 177 = 1.7617305742715366\n",
      "****************************************************************************************************\n"
     ]
    },
    {
     "name": "stderr",
     "output_type": "stream",
     "text": [
      "\n"
     ]
    }
   ],
   "source": [
    "for i in tqdm(range(10)):\n",
    "    max_depth = np.random.randint(1,200)\n",
    "    min_samples_split = np.random.randint(10,400)\n",
    "    max_leaf_nodes = np.random.randint(20,400)\n",
    "    model_4 = DecisionTreeRegressor(max_depth = max_depth, min_samples_split=min_samples_split, max_leaf_nodes=max_leaf_nodes)\n",
    "    model_4.fit(X_train,y_train)\n",
    "    y_pred_train = model_4.predict(X_train)\n",
    "    y_pred_cv = model_4.predict(X_cv)\n",
    "    rmse = math.sqrt(mse(y_train,y_pred_train))\n",
    "    print(f\"Train error with max_depth: {max_depth}, min_samples_split:{min_samples_split}, max_leaf_nodes: {max_leaf_nodes} = {rmse}\")\n",
    "    rmse = math.sqrt(mse(y_cv,y_pred_cv))\n",
    "    print(f\"Test error with max_depth: {max_depth}, min_samples_split:{min_samples_split}, max_leaf_nodes: {max_leaf_nodes} = {rmse}\")\n",
    "    print('*'*100)\n",
    "    "
   ]
  },
  {
   "cell_type": "code",
   "execution_count": 5,
   "metadata": {},
   "outputs": [
    {
     "name": "stdout",
     "output_type": "stream",
     "text": [
      "With max_depth: 159, min_samples_split:275, max_leaf_nodes: 367 the train RMSE score is 1.7767201875722742\n",
      "With max_depth: 159, min_samples_split:275, max_leaf_nodes: 367 the test RMSE score is 1.776710057516806\n"
     ]
    }
   ],
   "source": [
    "max_depth=176\n",
    "min_samples_split=141\n",
    "max_leaf_nodes = 329\n",
    "model4= DecisionTreeRegressor(max_depth=max_depth,min_samples_split=min_samples_split,max_leaf_nodes=max_leaf_nodes)\n",
    "model4.fit(X_train,y_train)\n",
    "y_pred_train = model4.predict(X_train)\n",
    "rmse = math.sqrt(mse(y_train,y_pred_train))\n",
    "print(f\"With max_depth: 159, min_samples_split:275, max_leaf_nodes: 367 the train RMSE score is {rmse}\")\n",
    "y_pred = model4.predict(X_test)\n",
    "rmse = math.sqrt(mse(y_test,y_pred))\n",
    "print(f\"With max_depth: 159, min_samples_split:275, max_leaf_nodes: 367 the test RMSE score is {rmse}\")\n"
   ]
  }
 ],
 "metadata": {
  "kernelspec": {
   "display_name": "Python 3.8.10 64-bit",
   "language": "python",
   "name": "python3"
  },
  "language_info": {
   "codemirror_mode": {
    "name": "ipython",
    "version": 3
   },
   "file_extension": ".py",
   "mimetype": "text/x-python",
   "name": "python",
   "nbconvert_exporter": "python",
   "pygments_lexer": "ipython3",
   "version": "3.8.10"
  },
  "orig_nbformat": 4,
  "vscode": {
   "interpreter": {
    "hash": "31f2aee4e71d21fbe5cf8b01ff0e069b9275f58929596ceb00d14d90e3e16cd6"
   }
  }
 },
 "nbformat": 4,
 "nbformat_minor": 2
}
