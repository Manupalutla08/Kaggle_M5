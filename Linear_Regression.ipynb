{
 "cells": [
  {
   "cell_type": "code",
   "execution_count": 1,
   "metadata": {},
   "outputs": [],
   "source": [
    "import numpy as np\n",
    "import pandas as pd\n",
    "import pickle\n",
    "import math\n",
    "from sklearn import linear_model\n",
    "from sklearn.metrics import mean_squared_error as mse\n",
    "import warnings\n",
    "warnings.filterwarnings('ignore')"
   ]
  },
  {
   "cell_type": "code",
   "execution_count": 2,
   "metadata": {},
   "outputs": [],
   "source": [
    "X_train = pd.read_pickle('X_train.pkl')\n",
    "X_cv = pd.read_pickle('X_cv.pkl')\n",
    "X_test = pd.read_pickle('X_test.pkl')"
   ]
  },
  {
   "cell_type": "code",
   "execution_count": 3,
   "metadata": {},
   "outputs": [
    {
     "name": "stdout",
     "output_type": "stream",
     "text": [
      "(13781480, 28) (13781480,)\n",
      "(853720, 28) (853720,)\n",
      "(853720, 28) (853720,)\n"
     ]
    }
   ],
   "source": [
    "y_train = X_train['sales']\n",
    "y_cv = X_cv['sales']\n",
    "y_test = X_test['sales']\n",
    "\n",
    "# We are drpping the features which are not required.\n",
    "X_train.drop(['sales'],axis = 1,inplace = True)\n",
    "X_cv.drop(['sales'],axis = 1,inplace = True)\n",
    "X_test.drop(['sales'],axis = 1,inplace = True)\n",
    "\n",
    "print(X_train.shape,y_train.shape)\n",
    "print(X_cv.shape,y_cv.shape)\n",
    "print(X_test.shape, y_test.shape)"
   ]
  },
  {
   "cell_type": "markdown",
   "metadata": {},
   "source": [
    "#### Lasso Regression"
   ]
  },
  {
   "cell_type": "code",
   "execution_count": 6,
   "metadata": {},
   "outputs": [
    {
     "name": "stdout",
     "output_type": "stream",
     "text": [
      "Train error of Lasso regression with alpha 0.001 = 1.8585271745634224\n",
      "Validation error of Lasso regression with alpha 0.001 = 1.8136752034702524\n",
      "******************************************************************************************\n",
      "Train error of Lasso regression with alpha 0.01 = 1.859374166536545\n",
      "Validation error of Lasso regression with alpha 0.01 = 1.814647454735836\n",
      "******************************************************************************************\n",
      "Train error of Lasso regression with alpha 0.1 = 1.8711556760857577\n",
      "Validation error of Lasso regression with alpha 0.1 = 1.8266335296525686\n",
      "******************************************************************************************\n",
      "Train error of Lasso regression with alpha 0.5 = 1.881572647561544\n",
      "Validation error of Lasso regression with alpha 0.5 = 1.836304453437755\n",
      "******************************************************************************************\n",
      "Train error of Lasso regression with alpha 1 = 1.9042779070569762\n",
      "Validation error of Lasso regression with alpha 1 = 1.8583954226238353\n",
      "******************************************************************************************\n"
     ]
    }
   ],
   "source": [
    "alphas = [0.001,0.01,0.1,0.5,1]\n",
    "for i in alphas:\n",
    "    model2=linear_model.Lasso(alpha=i)\n",
    "    model2.fit(X_train,y_train)\n",
    "    y_pred_train = model2.predict(X_train)\n",
    "    y_pred_cv = model2.predict(X_cv)\n",
    "    rmse = math.sqrt(mse(y_train,y_pred_train))\n",
    "    print(f\"Train error of Lasso regression with alpha {i} = {rmse}\")\n",
    "    rmse = math.sqrt(mse(y_cv,y_pred_cv))\n",
    "    print(f\"Validation error of Lasso regression with alpha {i} = {rmse}\")\n",
    "    print(\"*\"*90)"
   ]
  },
  {
   "cell_type": "code",
   "execution_count": 7,
   "metadata": {},
   "outputs": [
    {
     "name": "stdout",
     "output_type": "stream",
     "text": [
      "For alpha value 0.001, the train RMSE score is 1.8585271745634224\n",
      "For alpha value 0.001, the test RMSE score is 1.811625828895387\n"
     ]
    }
   ],
   "source": [
    "# Re-training the model with the best alpha value.\n",
    "model1 = linear_model.Lasso(alpha=0.001)\n",
    "model1.fit(X_train, y_train)\n",
    "y_pred = model1.predict(X_test)\n",
    "y_pred_train = model1.predict(X_train)\n",
    "rmse = math.sqrt(mse(y_train,y_pred_train))\n",
    "print(f\"For alpha value 0.001, the train RMSE score is {rmse}\")\n",
    "rmse = math.sqrt(mse(y_test,y_pred))\n",
    "print(f\"For alpha value 0.001, the test RMSE score is {rmse}\")"
   ]
  },
  {
   "cell_type": "markdown",
   "metadata": {},
   "source": [
    "#### Ridge Regression"
   ]
  },
  {
   "cell_type": "code",
   "execution_count": 8,
   "metadata": {},
   "outputs": [
    {
     "name": "stdout",
     "output_type": "stream",
     "text": [
      "Train error of ridge regression with alpha 0.001 = 1.8585033136584053\n",
      "Validation error of ridge regression with alpha 0.001 = 1.8136516726845713\n",
      "******************************************************************************************\n",
      "Train error of ridge regression with alpha 0.01 = 1.8585033136584053\n",
      "Validation error of ridge regression with alpha 0.01 = 1.8136516726845713\n",
      "******************************************************************************************\n",
      "Train error of ridge regression with alpha 0.1 = 1.8585033136584053\n",
      "Validation error of ridge regression with alpha 0.1 = 1.8136516726845713\n",
      "******************************************************************************************\n",
      "Train error of ridge regression with alpha 0.5 = 1.8585033778010336\n",
      "Validation error of ridge regression with alpha 0.5 = 1.8136518041423224\n",
      "******************************************************************************************\n",
      "Train error of ridge regression with alpha 1 = 1.8585033136584053\n",
      "Validation error of ridge regression with alpha 1 = 1.8136516726845713\n",
      "******************************************************************************************\n"
     ]
    }
   ],
   "source": [
    "alphas = [0.001,0.01,0.1,0.5,1]\n",
    "for i in alphas:\n",
    "    model2=linear_model.Ridge(alpha=i)\n",
    "    model2.fit(X_train,y_train)\n",
    "    y_pred_train = model2.predict(X_train)\n",
    "    y_pred_cv = model2.predict(X_cv)\n",
    "    rmse = math.sqrt(mse(y_train,y_pred_train))\n",
    "    print(f\"Train error of ridge regression with alpha {i} = {rmse}\")\n",
    "    rmse = math.sqrt(mse(y_cv,y_pred_cv))\n",
    "    print(f\"Validation error of ridge regression with alpha {i} = {rmse}\")\n",
    "    print(\"*\"*90)"
   ]
  },
  {
   "cell_type": "code",
   "execution_count": 9,
   "metadata": {},
   "outputs": [
    {
     "name": "stdout",
     "output_type": "stream",
     "text": [
      "For alpha value 0.001, the train RMSE score is 1.8585033136584053\n",
      "For alpha value 0.001, the test RMSE score is 1.8114981019749543\n"
     ]
    }
   ],
   "source": [
    "# Re-training our model with the best alpha value.\n",
    "model2 = linear_model.Ridge(alpha=1)\n",
    "model2.fit(X_train, y_train)\n",
    "y_pred_train = model2.predict(X_train)\n",
    "rmse = math.sqrt(mse(y_train,y_pred_train))\n",
    "print(f\"For alpha value 0.001, the train RMSE score is {rmse}\")\n",
    "y_pred = model2.predict(X_test)\n",
    "rmse = math.sqrt(mse(y_test,y_pred))\n",
    "print(f\"For alpha value 0.001, the test RMSE score is {rmse}\")"
   ]
  }
 ],
 "metadata": {
  "kernelspec": {
   "display_name": "Python 3.8.10 64-bit",
   "language": "python",
   "name": "python3"
  },
  "language_info": {
   "codemirror_mode": {
    "name": "ipython",
    "version": 3
   },
   "file_extension": ".py",
   "mimetype": "text/x-python",
   "name": "python",
   "nbconvert_exporter": "python",
   "pygments_lexer": "ipython3",
   "version": "3.8.10"
  },
  "orig_nbformat": 4,
  "vscode": {
   "interpreter": {
    "hash": "31f2aee4e71d21fbe5cf8b01ff0e069b9275f58929596ceb00d14d90e3e16cd6"
   }
  }
 },
 "nbformat": 4,
 "nbformat_minor": 2
}
