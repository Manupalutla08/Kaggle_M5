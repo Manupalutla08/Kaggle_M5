{
 "cells": [
  {
   "cell_type": "code",
   "execution_count": 1,
   "metadata": {},
   "outputs": [
    {
     "name": "stdout",
     "output_type": "stream",
     "text": [
      "Requirement already satisfied: downcast in /home/manaswini_palutla8/.local/lib/python3.8/site-packages (0.0.8)\n",
      "Note: you may need to restart the kernel to use updated packages.\n"
     ]
    }
   ],
   "source": [
    "pip install downcast"
   ]
  },
  {
   "cell_type": "code",
   "execution_count": 29,
   "metadata": {},
   "outputs": [],
   "source": [
    "#Importing necessary libraries\n",
    "from downcast import reduce\n",
    "from tqdm import tqdm\n",
    "import math\n",
    "import pandas as pd\n",
    "import numpy as np\n",
    "import gc\n",
    "from sklearn.preprocessing import LabelEncoder\n",
    "from sklearn.linear_model import LinearRegression\n",
    "from sklearn.tree import DecisionTreeRegressor\n",
    "from sklearn.ensemble import RandomForestRegressor\n",
    "from prettytable import PrettyTable\n",
    "import warnings \n",
    "from sklearn.metrics import mean_squared_error as mse\n",
    "warnings.filterwarnings(\"ignore\")"
   ]
  },
  {
   "cell_type": "code",
   "execution_count": 3,
   "metadata": {},
   "outputs": [],
   "source": [
    "calendar = pd.read_csv('calendar.csv')"
   ]
  },
  {
   "cell_type": "code",
   "execution_count": 4,
   "metadata": {},
   "outputs": [
    {
     "name": "stdout",
     "output_type": "stream",
     "text": [
      "Columns with Null values in calendar dataset  ['event_name_1', 'event_type_1', 'event_name_2', 'event_type_2']\n"
     ]
    }
   ],
   "source": [
    "#deleting the rows which has data after 22nd May 2016 i.e, days after 1941 \n",
    "calendar = calendar[(calendar['date'] <= '2016-05-22')]\n",
    "#Checking for NULL or Nan values\n",
    "print(\"Columns with Null values in calendar dataset \",calendar.columns[calendar.isna().any()].tolist())\n",
    "#Replacing Nan values with 'no_event' - value\n",
    "calendar=calendar.fillna('no_event')"
   ]
  },
  {
   "cell_type": "code",
   "execution_count": 5,
   "metadata": {},
   "outputs": [],
   "source": [
    "#Loading sales_train_eval dataset\n",
    "sales_train_eval = pd.read_csv('sales_train_evaluation.csv')"
   ]
  },
  {
   "cell_type": "code",
   "execution_count": 6,
   "metadata": {},
   "outputs": [],
   "source": [
    "#Loading sell_prices dataset\n",
    "sell_price = pd.read_csv('sell_prices.csv')"
   ]
  },
  {
   "cell_type": "code",
   "execution_count": 7,
   "metadata": {},
   "outputs": [],
   "source": [
    "calendar=reduce(calendar)\n",
    "sales_train_eval=reduce(sales_train_eval)\n",
    "sell_price=reduce(sell_price)"
   ]
  },
  {
   "cell_type": "code",
   "execution_count": 8,
   "metadata": {},
   "outputs": [],
   "source": [
    "#dataframe is pivoted to have all the sales data under a single column\n",
    "sales_final=sales_train_eval.melt(id_vars=['id', 'item_id', 'dept_id', 'cat_id', \n",
    "                                           'store_id', 'state_id'], var_name='d',value_name='sales')"
   ]
  },
  {
   "cell_type": "code",
   "execution_count": 9,
   "metadata": {},
   "outputs": [],
   "source": [
    "#merging sales data with calendar data to plot total sales per day(in terms of date)\n",
    "sales_final=sales_final.merge(calendar,on='d',how='left')"
   ]
  },
  {
   "cell_type": "code",
   "execution_count": 10,
   "metadata": {},
   "outputs": [
    {
     "data": {
      "text/plain": [
       "True"
      ]
     },
     "execution_count": 10,
     "metadata": {},
     "output_type": "execute_result"
    }
   ],
   "source": [
    "#Merging with price dataframe\n",
    "sales_final=sales_final.merge(sell_price,on=['wm_yr_wk','item_id','store_id'],how='left')\n",
    "sales_final.isnull().values.any()"
   ]
  },
  {
   "cell_type": "code",
   "execution_count": 11,
   "metadata": {},
   "outputs": [],
   "source": [
    "#deleting the rows which has data before 1st Jan 2015\n",
    "sales_final = sales_final[(sales_final['date'] >= '2015-01-01')]"
   ]
  },
  {
   "cell_type": "code",
   "execution_count": 12,
   "metadata": {},
   "outputs": [
    {
     "data": {
      "text/plain": [
       "0"
      ]
     },
     "execution_count": 12,
     "metadata": {},
     "output_type": "execute_result"
    }
   ],
   "source": [
    "#deleting unused dataframes to freeup memory space\n",
    "del calendar\n",
    "del sales_train_eval\n",
    "del sell_price\n",
    "gc.collect()"
   ]
  },
  {
   "cell_type": "code",
   "execution_count": 13,
   "metadata": {},
   "outputs": [],
   "source": [
    "#Extract number from string\n",
    "sales_final['d'] = sales_final['d'].str.extract(r\"(\\d+)\").astype(np.int16)"
   ]
  },
  {
   "cell_type": "code",
   "execution_count": 14,
   "metadata": {},
   "outputs": [],
   "source": [
    "sales_final = sales_final.reset_index(drop=True)"
   ]
  },
  {
   "cell_type": "code",
   "execution_count": 15,
   "metadata": {},
   "outputs": [],
   "source": [
    "column = ['id','item_id', 'dept_id', 'cat_id', 'store_id', 'state_id', 'event_name_1', 'event_type_1', 'event_name_2', 'event_type_2']\n",
    "for feature in column:\n",
    "    encoder = LabelEncoder()\n",
    "    sales_final[feature] = encoder.fit_transform(sales_final[feature])"
   ]
  },
  {
   "cell_type": "code",
   "execution_count": 16,
   "metadata": {},
   "outputs": [],
   "source": [
    "sales_final['sell_price'].fillna(0,inplace=True)"
   ]
  },
  {
   "cell_type": "code",
   "execution_count": 17,
   "metadata": {},
   "outputs": [
    {
     "data": {
      "text/plain": [
       "[]"
      ]
     },
     "execution_count": 17,
     "metadata": {},
     "output_type": "execute_result"
    }
   ],
   "source": [
    "#checking for columns with Nan values \n",
    "sales_final.columns[sales_final.isna().any()].tolist()"
   ]
  },
  {
   "cell_type": "code",
   "execution_count": 18,
   "metadata": {},
   "outputs": [],
   "source": [
    "#dropping wm_yr_wk column\n",
    "sales_final.drop('wm_yr_wk',axis=1,inplace=True)\n",
    "#dropping date column\n",
    "sales_final.drop('date',axis=1,inplace=True)\n",
    "sales_final.drop('weekday',axis=1,inplace=True)\n",
    "sales_final = sales_final.reset_index(drop=True)"
   ]
  },
  {
   "cell_type": "code",
   "execution_count": 19,
   "metadata": {},
   "outputs": [],
   "source": [
    "sales_final = reduce(sales_final)"
   ]
  },
  {
   "cell_type": "code",
   "execution_count": 20,
   "metadata": {},
   "outputs": [
    {
     "data": {
      "text/html": [
       "<div>\n",
       "<style scoped>\n",
       "    .dataframe tbody tr th:only-of-type {\n",
       "        vertical-align: middle;\n",
       "    }\n",
       "\n",
       "    .dataframe tbody tr th {\n",
       "        vertical-align: top;\n",
       "    }\n",
       "\n",
       "    .dataframe thead th {\n",
       "        text-align: right;\n",
       "    }\n",
       "</style>\n",
       "<table border=\"1\" class=\"dataframe\">\n",
       "  <thead>\n",
       "    <tr style=\"text-align: right;\">\n",
       "      <th></th>\n",
       "      <th>id</th>\n",
       "      <th>item_id</th>\n",
       "      <th>dept_id</th>\n",
       "      <th>cat_id</th>\n",
       "      <th>store_id</th>\n",
       "      <th>state_id</th>\n",
       "      <th>d</th>\n",
       "      <th>sales</th>\n",
       "      <th>wday</th>\n",
       "      <th>month</th>\n",
       "      <th>year</th>\n",
       "      <th>event_name_1</th>\n",
       "      <th>event_type_1</th>\n",
       "      <th>event_name_2</th>\n",
       "      <th>event_type_2</th>\n",
       "      <th>snap_CA</th>\n",
       "      <th>snap_TX</th>\n",
       "      <th>snap_WI</th>\n",
       "      <th>sell_price</th>\n",
       "    </tr>\n",
       "  </thead>\n",
       "  <tbody>\n",
       "    <tr>\n",
       "      <th>0</th>\n",
       "      <td>14370</td>\n",
       "      <td>1437</td>\n",
       "      <td>3</td>\n",
       "      <td>1</td>\n",
       "      <td>0</td>\n",
       "      <td>0</td>\n",
       "      <td>1434</td>\n",
       "      <td>0</td>\n",
       "      <td>6</td>\n",
       "      <td>1</td>\n",
       "      <td>2015</td>\n",
       "      <td>18</td>\n",
       "      <td>1</td>\n",
       "      <td>0</td>\n",
       "      <td>0</td>\n",
       "      <td>1</td>\n",
       "      <td>1</td>\n",
       "      <td>0</td>\n",
       "      <td>8.257812</td>\n",
       "    </tr>\n",
       "    <tr>\n",
       "      <th>1</th>\n",
       "      <td>14380</td>\n",
       "      <td>1438</td>\n",
       "      <td>3</td>\n",
       "      <td>1</td>\n",
       "      <td>0</td>\n",
       "      <td>0</td>\n",
       "      <td>1434</td>\n",
       "      <td>0</td>\n",
       "      <td>6</td>\n",
       "      <td>1</td>\n",
       "      <td>2015</td>\n",
       "      <td>18</td>\n",
       "      <td>1</td>\n",
       "      <td>0</td>\n",
       "      <td>0</td>\n",
       "      <td>1</td>\n",
       "      <td>1</td>\n",
       "      <td>0</td>\n",
       "      <td>3.970703</td>\n",
       "    </tr>\n",
       "    <tr>\n",
       "      <th>2</th>\n",
       "      <td>14390</td>\n",
       "      <td>1439</td>\n",
       "      <td>3</td>\n",
       "      <td>1</td>\n",
       "      <td>0</td>\n",
       "      <td>0</td>\n",
       "      <td>1434</td>\n",
       "      <td>0</td>\n",
       "      <td>6</td>\n",
       "      <td>1</td>\n",
       "      <td>2015</td>\n",
       "      <td>18</td>\n",
       "      <td>1</td>\n",
       "      <td>0</td>\n",
       "      <td>0</td>\n",
       "      <td>1</td>\n",
       "      <td>1</td>\n",
       "      <td>0</td>\n",
       "      <td>2.970703</td>\n",
       "    </tr>\n",
       "    <tr>\n",
       "      <th>3</th>\n",
       "      <td>14400</td>\n",
       "      <td>1440</td>\n",
       "      <td>3</td>\n",
       "      <td>1</td>\n",
       "      <td>0</td>\n",
       "      <td>0</td>\n",
       "      <td>1434</td>\n",
       "      <td>2</td>\n",
       "      <td>6</td>\n",
       "      <td>1</td>\n",
       "      <td>2015</td>\n",
       "      <td>18</td>\n",
       "      <td>1</td>\n",
       "      <td>0</td>\n",
       "      <td>0</td>\n",
       "      <td>1</td>\n",
       "      <td>1</td>\n",
       "      <td>0</td>\n",
       "      <td>4.640625</td>\n",
       "    </tr>\n",
       "    <tr>\n",
       "      <th>4</th>\n",
       "      <td>14410</td>\n",
       "      <td>1441</td>\n",
       "      <td>3</td>\n",
       "      <td>1</td>\n",
       "      <td>0</td>\n",
       "      <td>0</td>\n",
       "      <td>1434</td>\n",
       "      <td>3</td>\n",
       "      <td>6</td>\n",
       "      <td>1</td>\n",
       "      <td>2015</td>\n",
       "      <td>18</td>\n",
       "      <td>1</td>\n",
       "      <td>0</td>\n",
       "      <td>0</td>\n",
       "      <td>1</td>\n",
       "      <td>1</td>\n",
       "      <td>0</td>\n",
       "      <td>2.880859</td>\n",
       "    </tr>\n",
       "  </tbody>\n",
       "</table>\n",
       "</div>"
      ],
      "text/plain": [
       "      id  item_id  dept_id  cat_id  store_id  state_id     d  sales  wday  \\\n",
       "0  14370     1437        3       1         0         0  1434      0     6   \n",
       "1  14380     1438        3       1         0         0  1434      0     6   \n",
       "2  14390     1439        3       1         0         0  1434      0     6   \n",
       "3  14400     1440        3       1         0         0  1434      2     6   \n",
       "4  14410     1441        3       1         0         0  1434      3     6   \n",
       "\n",
       "   month  year  event_name_1  event_type_1  event_name_2  event_type_2  \\\n",
       "0      1  2015            18             1             0             0   \n",
       "1      1  2015            18             1             0             0   \n",
       "2      1  2015            18             1             0             0   \n",
       "3      1  2015            18             1             0             0   \n",
       "4      1  2015            18             1             0             0   \n",
       "\n",
       "   snap_CA  snap_TX  snap_WI  sell_price  \n",
       "0        1        1        0    8.257812  \n",
       "1        1        1        0    3.970703  \n",
       "2        1        1        0    2.970703  \n",
       "3        1        1        0    4.640625  \n",
       "4        1        1        0    2.880859  "
      ]
     },
     "execution_count": 20,
     "metadata": {},
     "output_type": "execute_result"
    }
   ],
   "source": [
    "sales_final.head()"
   ]
  },
  {
   "cell_type": "code",
   "execution_count": 21,
   "metadata": {},
   "outputs": [],
   "source": [
    "X_train =  sales_final[(sales_final['d'] <= 1885)]\n",
    "X_cv = sales_final[(sales_final['d'] > 1885) & (sales_final['d'] <= 1913)]\n",
    "X_test = sales_final[(sales_final['d'] > 1913)]"
   ]
  },
  {
   "cell_type": "code",
   "execution_count": 22,
   "metadata": {},
   "outputs": [
    {
     "name": "stdout",
     "output_type": "stream",
     "text": [
      "(13781480, 18) (13781480,)\n",
      "(853720, 18) (853720,)\n",
      "(853720, 18) (853720,)\n"
     ]
    }
   ],
   "source": [
    "y_train = X_train['sales']\n",
    "y_cv = X_cv['sales']\n",
    "y_test = X_test['sales']\n",
    "\n",
    "# We are drpping the features which are not required.\n",
    "X_train.drop(['sales'],axis = 1,inplace = True)\n",
    "X_cv.drop(['sales'],axis = 1,inplace = True)\n",
    "X_test.drop(['sales'],axis = 1,inplace = True)\n",
    "\n",
    "print(X_train.shape,y_train.shape)\n",
    "print(X_cv.shape,y_cv.shape)\n",
    "print(X_test.shape, y_test.shape)"
   ]
  },
  {
   "cell_type": "markdown",
   "metadata": {},
   "source": [
    "Linear Regression"
   ]
  },
  {
   "cell_type": "code",
   "execution_count": 23,
   "metadata": {},
   "outputs": [
    {
     "name": "stdout",
     "output_type": "stream",
     "text": [
      "Validation error of Linear regression is 3.536406676299515\n"
     ]
    }
   ],
   "source": [
    "model1 = LinearRegression()\n",
    "model1.fit(X_train, y_train)\n",
    "y_pred_cv = model1.predict(X_cv)\n",
    "rmse = math.sqrt(mse(y_cv,y_pred_cv))\n",
    "print(f\"Validation error of Linear regression is {rmse}\")"
   ]
  },
  {
   "cell_type": "code",
   "execution_count": 24,
   "metadata": {},
   "outputs": [
    {
     "name": "stdout",
     "output_type": "stream",
     "text": [
      "test error of Linear regression is 3.5795101499811897\n"
     ]
    }
   ],
   "source": [
    "y_pred = model1.predict(X_test)\n",
    "rmse = math.sqrt(mse(y_test,y_pred))\n",
    "print(f\"test error of Linear regression is {rmse}\")"
   ]
  },
  {
   "cell_type": "markdown",
   "metadata": {},
   "source": [
    "DecisionTree Regressor"
   ]
  },
  {
   "cell_type": "code",
   "execution_count": 25,
   "metadata": {},
   "outputs": [
    {
     "name": "stdout",
     "output_type": "stream",
     "text": [
      "Validation error of Decision tree regression is 3.092120025208083\n"
     ]
    }
   ],
   "source": [
    "model2= DecisionTreeRegressor(random_state=0)\n",
    "model2.fit(X_train,y_train)\n",
    "y_pred_cv = model2.predict(X_cv)\n",
    "rmse = math.sqrt(mse(y_cv,y_pred_cv))\n",
    "print(f\"Validation error of Decision tree regression is {rmse}\")"
   ]
  },
  {
   "cell_type": "code",
   "execution_count": 26,
   "metadata": {},
   "outputs": [
    {
     "name": "stdout",
     "output_type": "stream",
     "text": [
      "test error of Decision tree regression is 3.2934024994565854\n"
     ]
    }
   ],
   "source": [
    "y_pred = model2.predict(X_test)\n",
    "rmse = math.sqrt(mse(y_test,y_pred))\n",
    "print(f\"test error of Decision tree regression is {rmse}\")"
   ]
  },
  {
   "cell_type": "markdown",
   "metadata": {},
   "source": [
    "Random Forest Regressor"
   ]
  },
  {
   "cell_type": "code",
   "execution_count": 27,
   "metadata": {},
   "outputs": [
    {
     "name": "stdout",
     "output_type": "stream",
     "text": [
      "Validation error of Random Forest is 2.5144926783006114\n"
     ]
    }
   ],
   "source": [
    "model3 = RandomForestRegressor(n_estimators = 5)\n",
    "model3.fit(X_train, y_train)\n",
    "y_pred_cv = model3.predict(X_cv)\n",
    "rmse = math.sqrt(mse(y_cv,y_pred_cv))\n",
    "print(f\"Validation error of Random Forest is {rmse}\")"
   ]
  },
  {
   "cell_type": "code",
   "execution_count": 28,
   "metadata": {},
   "outputs": [
    {
     "name": "stdout",
     "output_type": "stream",
     "text": [
      "test error of Random forest is 2.7114990763010636\n"
     ]
    }
   ],
   "source": [
    "y_pred = model3.predict(X_test)\n",
    "rmse = math.sqrt(mse(y_test,y_pred))\n",
    "print(f\"test error of Random forest is {rmse}\")"
   ]
  },
  {
   "cell_type": "code",
   "execution_count": 31,
   "metadata": {},
   "outputs": [
    {
     "name": "stdout",
     "output_type": "stream",
     "text": [
      "Performance of models without any featurization\n",
      "+----+-------------------------------------+------------+\n",
      "| No |                Model                | RMSE SCORE |\n",
      "+----+-------------------------------------+------------+\n",
      "| 1  |        Simple Moving Average        |    2.23    |\n",
      "| 2  | Exponential Weighted Moving Average |    2.16    |\n",
      "| 3  |          Linear regression          |   3.579    |\n",
      "| 4  |            Decision Tree            |   3.293    |\n",
      "| 5  |            Random Forest            |   2.711    |\n",
      "+----+-------------------------------------+------------+\n"
     ]
    }
   ],
   "source": [
    "# performance of all models\n",
    "print(\"Performance of models without any featurization\")\n",
    "prettyTable = PrettyTable([ \"No\",\"Model\", \"RMSE SCORE\"])\n",
    "prettyTable.add_row([1,\"Simple Moving Average\", \"2.23\"])\n",
    "prettyTable.add_row([2,\"Exponential Weighted Moving Average\", \"2.16\"])\n",
    "prettyTable.add_row([3,\"Linear regression\", \"3.579\"])\n",
    "prettyTable.add_row([4,\"Decision Tree\", \"3.293\"])\n",
    "prettyTable.add_row([5,\"Random Forest\", \"2.711\"])\n",
    "\n",
    "print(prettyTable)"
   ]
  }
 ],
 "metadata": {
  "kernelspec": {
   "display_name": "Python 3.8.10 64-bit",
   "language": "python",
   "name": "python3"
  },
  "language_info": {
   "codemirror_mode": {
    "name": "ipython",
    "version": 3
   },
   "file_extension": ".py",
   "mimetype": "text/x-python",
   "name": "python",
   "nbconvert_exporter": "python",
   "pygments_lexer": "ipython3",
   "version": "3.8.10"
  },
  "orig_nbformat": 4,
  "vscode": {
   "interpreter": {
    "hash": "31f2aee4e71d21fbe5cf8b01ff0e069b9275f58929596ceb00d14d90e3e16cd6"
   }
  }
 },
 "nbformat": 4,
 "nbformat_minor": 2
}
