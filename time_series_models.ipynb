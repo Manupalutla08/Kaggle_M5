{
 "cells": [
  {
   "cell_type": "code",
   "execution_count": 10,
   "metadata": {},
   "outputs": [],
   "source": [
    "#importing necessary packages\n",
    "import pandas as pd\n",
    "import numpy as np\n",
    "from tqdm import tqdm\n",
    "import math\n",
    "pd.set_option('display.max_columns', None)\n",
    "pd.set_option('display.max_rows', None)\n",
    "from sklearn.metrics import mean_squared_error as mse"
   ]
  },
  {
   "cell_type": "code",
   "execution_count": 11,
   "metadata": {},
   "outputs": [],
   "source": [
    "#Loading datasets\n",
    "sales_train_eval = pd.read_csv(\"sales_train_evaluation.csv\")\n",
    "sell_priceprice = pd.read_csv(\"sell_prices.csv\")\n",
    "calendar = pd.read_csv(\"calendar.csv\")"
   ]
  },
  {
   "cell_type": "code",
   "execution_count": 12,
   "metadata": {},
   "outputs": [],
   "source": [
    "calendar[\"d\"] = calendar[\"d\"].apply(lambda a: int(a.split(\"_\")[1]))"
   ]
  },
  {
   "cell_type": "code",
   "execution_count": 13,
   "metadata": {},
   "outputs": [],
   "source": [
    "days = [a for a in sales_train_eval.columns if 'd_' in a]\n",
    "forecast = 28"
   ]
  },
  {
   "cell_type": "code",
   "execution_count": 14,
   "metadata": {},
   "outputs": [],
   "source": [
    "#splitting into train and test datasets\n",
    "X_train = sales_train_eval[days[:1913]]\n",
    "X_test = sales_train_eval[days[1913:]]"
   ]
  },
  {
   "cell_type": "markdown",
   "metadata": {},
   "source": [
    "#### Simple Moving average model"
   ]
  },
  {
   "cell_type": "code",
   "execution_count": 46,
   "metadata": {},
   "outputs": [],
   "source": [
    "\n",
    "def SMA(df, forecast, wind_size):\n",
    "\n",
    "    preds = []\n",
    "    for i in range(forecast):\n",
    "        if i == 0:\n",
    "            preds.append(np.mean(df[df.columns[-wind_size:]].values, axis=1))\n",
    "        if i < forecast and i > 0:\n",
    "            pred = 0.5 * (np.mean(df[df.columns[-wind_size + i:]].values, axis=1) + \\\n",
    "                                  np.mean(preds[:i], axis=0))\n",
    "            preds.append(0.5 * (np.mean(df[df.columns[-wind_size + i:]].values, axis=1) + \\\n",
    "                                  np.mean(preds[:i], axis=0)))\n",
    "            \n",
    "    return preds   "
   ]
  },
  {
   "cell_type": "code",
   "execution_count": 51,
   "metadata": {},
   "outputs": [
    {
     "name": "stdout",
     "output_type": "stream",
     "text": [
      "RMSE of SMA is: 2.233064272884162\n"
     ]
    }
   ],
   "source": [
    "df = pd.DataFrame()\n",
    "predictions = SMA(X_train, forecast, 28)\n",
    "for d, i in enumerate(range(1914, 1942)):\n",
    "    df['F_' + str(i)] = predictions[d]\n",
    "\n",
    "print(\"RMSE of SMA is:\", math.sqrt(mse(X_test,df)))"
   ]
  },
  {
   "cell_type": "markdown",
   "metadata": {},
   "source": [
    "### Exponential Weighted Moving Average model"
   ]
  },
  {
   "cell_type": "code",
   "execution_count": 15,
   "metadata": {},
   "outputs": [],
   "source": [
    "def EWMA(X_train,X_test,forecast,alpha):\n",
    "\n",
    "    preds = []\n",
    "    alpha = alpha\n",
    "    for i in range(forecast):\n",
    "        if i == 0:\n",
    "            pred = (X_train.iloc[:,-1])\n",
    "            preds.append(pred)\n",
    "        if i < forecast and i > 0:\n",
    "            pred = (alpha * X_test.iloc[:,i-1]+ (1-alpha)*preds[i-1])\n",
    "            preds.append(pred)     \n",
    "    return preds   "
   ]
  },
  {
   "cell_type": "code",
   "execution_count": 16,
   "metadata": {},
   "outputs": [
    {
     "name": "stdout",
     "output_type": "stream",
     "text": [
      "RMSE error of EWMA with alpha:  0.2   2.1642902710828524\n",
      "RMSE error of EWMA with alpha:  0.5   2.252204028692715\n",
      "RMSE error of EWMA with alpha:  0.7   2.3663048920859855\n",
      "RMSE error of EWMA with alpha:  0.8   2.4385125436145336\n"
     ]
    }
   ],
   "source": [
    "alphas = [0.2,0.5,0.7,0.8]\n",
    "for j in alphas:\n",
    "    predictions = EWMA(X_train,X_test,forecast,j)\n",
    "    df=pd.DataFrame()\n",
    "    for d, i in enumerate(range(1914, 1942)):\n",
    "        df['F_' + str(i)] = predictions[d]\n",
    "    print(\"RMSE error of EWMA with alpha: \",j,\" \", math.sqrt(mse(X_test,df)))"
   ]
  }
 ],
 "metadata": {
  "kernelspec": {
   "display_name": "Python 3.8.10 64-bit",
   "language": "python",
   "name": "python3"
  },
  "language_info": {
   "codemirror_mode": {
    "name": "ipython",
    "version": 3
   },
   "file_extension": ".py",
   "mimetype": "text/x-python",
   "name": "python",
   "nbconvert_exporter": "python",
   "pygments_lexer": "ipython3",
   "version": "3.8.10"
  },
  "orig_nbformat": 4,
  "vscode": {
   "interpreter": {
    "hash": "31f2aee4e71d21fbe5cf8b01ff0e069b9275f58929596ceb00d14d90e3e16cd6"
   }
  }
 },
 "nbformat": 4,
 "nbformat_minor": 2
}
